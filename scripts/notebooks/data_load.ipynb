{
 "cells": [
  {
   "cell_type": "markdown",
   "id": "4a9cc180",
   "metadata": {
    "id": "4a9cc180"
   },
   "source": [
    "### **Adquisición de Datos**\n",
    "---\n",
    "Tiempo estimado ~ 100 minutos\n",
    "\n",
    "Espacio Requerido ~ 5 GB"
   ]
  },
  {
   "cell_type": "code",
   "execution_count": 7,
   "id": "1b580368",
   "metadata": {
    "id": "1b580368"
   },
   "outputs": [],
   "source": [
    "import requests\n",
    "import json\n",
    "import time\n",
    "import base64\n",
    "import zipfile\n",
    "import io\n",
    "import pandas as pd\n",
    "import os\n",
    "from tqdm import tqdm\n",
    "from requests.packages.urllib3.exceptions import InsecureRequestWarning\n",
    "requests.packages.urllib3.disable_warnings(InsecureRequestWarning)"
   ]
  },
  {
   "cell_type": "code",
   "execution_count": 8,
   "id": "BTZUT6w_yAht",
   "metadata": {
    "id": "BTZUT6w_yAht"
   },
   "outputs": [
    {
     "name": "stdout",
     "output_type": "stream",
     "text": [
      "Workspace: /tf\n",
      "Data folder: /tf/productos/test/precipitation-forecast-co/data\n"
     ]
    }
   ],
   "source": [
    "# Navegar hasta la raíz del proyecto \n",
    "WORKSPACE = os.path.abspath(os.path.join(os.getcwd()))\n",
    "\n",
    "# Definir la ruta de la carpeta de datos\n",
    "DATA_FOLDER = os.path.join(WORKSPACE, 'productos/test/precipitation-forecast-co/data')\n",
    "\n",
    "print(\"Workspace:\", WORKSPACE)\n",
    "print(\"Data folder:\", DATA_FOLDER)"
   ]
  },
  {
   "cell_type": "code",
   "execution_count": 3,
   "id": "FbBt9acjFnL-",
   "metadata": {
    "id": "FbBt9acjFnL-"
   },
   "outputs": [],
   "source": [
    "def get_station_data(station_codes, start_date, end_date, id, label, group_size=20):\n",
    "    \"\"\"\n",
    "    Gets station data from IDEAM server.\n",
    "\n",
    "    Args:\n",
    "        station_codes (list): List of station codes\n",
    "        start_date (str): Start date\n",
    "        end_date (str): End date  \n",
    "        id (str): Parameter ID to retrieve\n",
    "        label (str): Parameter label\n",
    "        group_size (int): Size of station groups to process\n",
    "\n",
    "    Returns:\n",
    "        None (saves files to DATA_FOLDER)\n",
    "    \"\"\"\n",
    "    url = \"http://dhime.ideam.gov.co/server/rest/services/AtencionCiudadano/DescargarArchivo/GPServer/DescargarArchivo/submitJob\"\n",
    "    groups = [station_codes[i:i + group_size] for i in range(0, len(station_codes), group_size)]\n",
    "\n",
    "    empty_groups = 0\n",
    "    overtime_groups = 0\n",
    "    total_groups = len(groups)\n",
    "\n",
    "    with tqdm(total=total_groups, desc=f\"PROCESSING {label} ({id})\", unit=\"group\") as pbar:\n",
    "        for group in groups:\n",
    "            filter_stations = \"~or~\".join([f\"(IdParametro~eq~'{id}'~and~Etiqueta~eq~'{label}'~and~IdEstacion~eq~'{code}')\" for code in group])\n",
    "            params = {\n",
    "                \"Filtro\": f\"sort=&filter=({filter_stations})&group=&fechaInicio={start_date}T05%3A00%3A00.000Z&fechaFin={end_date}T05%3A00%3A00.000Z&mostrarGrado=true&mostrarCalificador=true&mostrarNivelAprobacion=true\",\n",
    "                \"Items\": json.dumps([{\"IdParametro\": id, \"Etiqueta\": label, \"EsEjeY1\": False, \"EsEjeY2\": False, \"EsTipoLinea\": False, \"EsTipoBarra\": False, \"TipoSerie\": \"Estandard\", \"Calculo\": \"\"}] * len(group)),\n",
    "                \"f\": \"pjson\"\n",
    "            }\n",
    "\n",
    "            response = requests.post(url, data=params)\n",
    "\n",
    "            if response.status_code == 200:\n",
    "                job_id = response.json()['jobId']\n",
    "                zip_url = f\"http://dhime.ideam.gov.co/server/rest/services/AtencionCiudadano/DescargarArchivo/GPServer/DescargarArchivo/jobs/{job_id}/results/Archivo?f=pjson\"\n",
    "\n",
    "                start_time = time.time()\n",
    "                saved_data = False\n",
    "                while True:\n",
    "                    zip_response = requests.get(zip_url)\n",
    "                    if zip_response.status_code == 200 and 'value' in zip_response.json():\n",
    "                        base64_string = zip_response.json()['value']\n",
    "                        padding = 4 - (len(base64_string) % 4)\n",
    "                        if padding:\n",
    "                            base64_string += '=' * padding\n",
    "\n",
    "                        try:\n",
    "                            decoded_bytes = base64.b64decode(base64_string)\n",
    "                            with zipfile.ZipFile(io.BytesIO(decoded_bytes)) as zip_file:\n",
    "                                for filename in zip_file.namelist():\n",
    "                                    if filename.endswith('.csv'):\n",
    "                                        with zip_file.open(filename) as f:\n",
    "                                            csv_data = f.read()\n",
    "                                        os.makedirs(os.path.join(DATA_FOLDER, 'raw'), exist_ok=True)\n",
    "                                        with open(os.path.join(DATA_FOLDER, 'raw', f\"{label}.csv\"), 'ab') as file:\n",
    "                                            file.write(csv_data)\n",
    "                                        saved_data = True\n",
    "                            break\n",
    "                        except Exception as e:\n",
    "                            if not saved_data:\n",
    "                                empty_groups += 1\n",
    "                            break\n",
    "                    elif time.time() - start_time > 120:\n",
    "                        if not saved_data:\n",
    "                            overtime_groups += 1\n",
    "                            print(f\"{label}: {group}\")\n",
    "                        break\n",
    "                    else:\n",
    "                        time.sleep(1)\n",
    "\n",
    "            pbar.update(1)\n",
    "\n",
    "    print(f\"Number of groups processed successfully: {total_groups - empty_groups - overtime_groups}/{total_groups}\")\n",
    "    print(f\"Number of groups without data: {empty_groups}/{total_groups}\")\n",
    "    print(f\"Number of groups over time limit: {overtime_groups}/{total_groups}\")"
   ]
  },
  {
   "cell_type": "code",
   "execution_count": 4,
   "id": "hWIseJvKlq_-",
   "metadata": {
    "id": "hWIseJvKlq_-"
   },
   "outputs": [],
   "source": [
    "def download_cne():\n",
    "    url = \"https://bart.ideam.gov.co/cneideam/CNE_IDEAM.xls\"\n",
    "    os.makedirs(DATA_FOLDER, exist_ok=True)\n",
    "    file_name = os.path.basename(url)\n",
    "    file_path = os.path.join(DATA_FOLDER, file_name)\n",
    "    response = requests.get(url, verify=False)\n",
    "\n",
    "    if response.status_code == 200:\n",
    "        with open(file_path, 'wb') as file:\n",
    "            file.write(response.content)\n",
    "    else:\n",
    "        pass"
   ]
  },
  {
   "cell_type": "code",
   "execution_count": 6,
   "id": "_7O2_JDEi_9G",
   "metadata": {
    "id": "_7O2_JDEi_9G"
   },
   "outputs": [
    {
     "name": "stderr",
     "output_type": "stream",
     "text": [
      "PROCESSING PTPM_CON (PRECIPITACION): 100%|██████████| 226/226 [1:36:41<00:00, 25.67s/group]"
     ]
    },
    {
     "name": "stdout",
     "output_type": "stream",
     "text": [
      "Number of groups processed successfully: 218/226\n",
      "Number of groups without data: 8/226\n",
      "Number of groups over time limit: 0/226\n"
     ]
    },
    {
     "name": "stderr",
     "output_type": "stream",
     "text": [
      "\n"
     ]
    }
   ],
   "source": [
    "def main():\n",
    "    download_cne()\n",
    "    stations_catalog = pd.read_excel(os.path.join(DATA_FOLDER, 'CNE_IDEAM.xls'))\n",
    "    parameters_labels = {\n",
    "        \"Precipitacion Acumulada\": {\"IdParameter\": \"PRECIPITACION\", \"Label\": \"PTPM_CON\"}\n",
    "    }\n",
    "    for parameter_name, values in parameters_labels.items():\n",
    "        try:\n",
    "            get_station_data(\n",
    "                stations_catalog['CODIGO'].tolist(),\n",
    "                '2000-01-01',\n",
    "                '2024-12-31',\n",
    "                values['IdParameter'],\n",
    "                values['Label']\n",
    "            )\n",
    "        except Exception as e:\n",
    "            print(f\"Error processing {parameter_name}: {e}\")\n",
    "\n",
    "if __name__ == '__main__':\n",
    "    main()"
   ]
  }
 ],
 "metadata": {
  "colab": {
   "provenance": []
  },
  "jupytext": {
   "cell_metadata_filter": "-all"
  },
  "kernelspec": {
   "display_name": "Python 3 (ipykernel)",
   "language": "python",
   "name": "python3"
  }
 },
 "nbformat": 4,
 "nbformat_minor": 5
}
